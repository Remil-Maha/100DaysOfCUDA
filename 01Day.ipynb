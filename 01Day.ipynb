{
  "nbformat": 4,
  "nbformat_minor": 0,
  "metadata": {
    "colab": {
      "provenance": [],
      "gpuType": "T4",
      "include_colab_link": true
    },
    "kernelspec": {
      "name": "python3",
      "display_name": "Python 3"
    },
    "language_info": {
      "name": "python"
    },
    "accelerator": "GPU"
  },
  "cells": [
    {
      "cell_type": "markdown",
      "metadata": {
        "id": "view-in-github",
        "colab_type": "text"
      },
      "source": [
        "<a href=\"https://colab.research.google.com/github/Remil-Maha/100DaysOfCUDA/blob/main/01Day.ipynb\" target=\"_parent\"><img src=\"https://colab.research.google.com/assets/colab-badge.svg\" alt=\"Open In Colab\"/></a>"
      ]
    },
    {
      "cell_type": "markdown",
      "metadata": {
        "id": "d84c0802"
      },
      "source": [
        "## Day 1: Setting up for the #100DaysofCuda Challenge and implementing Addition Vectors\n",
        "\n",
        "Welcome to the #100DaysofCuda challenge! Day 1 is all about getting your environment ready and running your first CUDA code, especially for those using Google Colab.\n",
        "\n",
        "### Day Objectives\n",
        "\n",
        "* Set up your environment for CUDA development, specifically in Google Colab.\n",
        "* Run a basic CUDA program to verify your setup.\n"
      ]
    },
    {
      "cell_type": "code",
      "source": [
        "# Affiche l’état actuel du GPU NVIDIA, y compris l’utilisation de la mémoire, les processus en cours, la température, la version du pilote et la version de CUDA.\n",
        "!nvidia-smi"
      ],
      "metadata": {
        "colab": {
          "base_uri": "https://localhost:8080/"
        },
        "id": "IOAr3AC7sqDe",
        "outputId": "bb813c5f-af6c-4940-b6f4-40467af3dc7a"
      },
      "execution_count": null,
      "outputs": [
        {
          "output_type": "stream",
          "name": "stdout",
          "text": [
            "Sat Jul 19 17:41:49 2025       \n",
            "+-----------------------------------------------------------------------------------------+\n",
            "| NVIDIA-SMI 550.54.15              Driver Version: 550.54.15      CUDA Version: 12.4     |\n",
            "|-----------------------------------------+------------------------+----------------------+\n",
            "| GPU  Name                 Persistence-M | Bus-Id          Disp.A | Volatile Uncorr. ECC |\n",
            "| Fan  Temp   Perf          Pwr:Usage/Cap |           Memory-Usage | GPU-Util  Compute M. |\n",
            "|                                         |                        |               MIG M. |\n",
            "|=========================================+========================+======================|\n",
            "|   0  Tesla T4                       Off |   00000000:00:04.0 Off |                    0 |\n",
            "| N/A   42C    P8             10W /   70W |       0MiB /  15360MiB |      0%      Default |\n",
            "|                                         |                        |                  N/A |\n",
            "+-----------------------------------------+------------------------+----------------------+\n",
            "                                                                                         \n",
            "+-----------------------------------------------------------------------------------------+\n",
            "| Processes:                                                                              |\n",
            "|  GPU   GI   CI        PID   Type   Process name                              GPU Memory |\n",
            "|        ID   ID                                                               Usage      |\n",
            "|=========================================================================================|\n",
            "|  No running processes found                                                             |\n",
            "+-----------------------------------------------------------------------------------------+\n"
          ]
        }
      ]
    },
    {
      "cell_type": "code",
      "source": [
        "!pip install git+https://github.com/andreinechaev/nvcc4jupyter.git"
      ],
      "metadata": {
        "colab": {
          "base_uri": "https://localhost:8080/"
        },
        "id": "yL-SnfixxZwq",
        "outputId": "e7ea5886-2cbe-47ce-cf1a-c3a6edbf8732"
      },
      "execution_count": null,
      "outputs": [
        {
          "output_type": "stream",
          "name": "stdout",
          "text": [
            "Collecting git+https://github.com/andreinechaev/nvcc4jupyter.git\n",
            "  Cloning https://github.com/andreinechaev/nvcc4jupyter.git to /tmp/pip-req-build-2mvw673u\n",
            "  Running command git clone --filter=blob:none --quiet https://github.com/andreinechaev/nvcc4jupyter.git /tmp/pip-req-build-2mvw673u\n",
            "  Resolved https://github.com/andreinechaev/nvcc4jupyter.git to commit 28f872a2f99a1b201bcd0db14fdbc5a496b9bfd7\n",
            "  Installing build dependencies ... \u001b[?25l\u001b[?25hdone\n",
            "  Getting requirements to build wheel ... \u001b[?25l\u001b[?25hdone\n",
            "  Preparing metadata (pyproject.toml) ... \u001b[?25l\u001b[?25hdone\n"
          ]
        }
      ]
    },
    {
      "cell_type": "code",
      "source": [
        "%%writefile vector_addition.cu\n",
        "# This cell writes the CUDA source code for vector addition into a file named \"vector_addition.cu\"\n",
        "# The program performs element-wise addition of two float vectors a[] and b[], and stores the result in c[]\n",
        "\n",
        "\n",
        "#include <stdio.h>\n",
        "#include <sys/time.h>\n",
        "#include <cuda.h>\n",
        "#include <cuda_runtime.h>\n",
        "\n",
        "// CUDA kernel: each thread computes one element of the result vector\n",
        "__global__ void addvect(float* a, float* b, float* c, int n) {\n",
        "    int idx = threadIdx.x + blockIdx.x * blockDim.x;\n",
        "    if (idx < n) {\n",
        "        c[idx] = a[idx] + b[idx];\n",
        "    }\n",
        "}\n",
        "\n",
        "int main() {\n",
        "    const int n = 512;\n",
        "    float a[n], b[n], c[n];\n",
        "    int size = n * sizeof(float);\n",
        "\n",
        "    float *device_a, *device_b, *device_c;\n",
        "\n",
        "    cudaMalloc((void**)&device_a, size);\n",
        "\n",
        "\n",
        "    cudaMalloc((void**)&device_b, size);\n",
        "   cudaMalloc((void**)&device_c, size);\n",
        "\n",
        "    // Initialisation des tableaux hôte\n",
        "    for (int i = 0; i < n; i++) {\n",
        "        a[i] = 1.0f;\n",
        "        b[i] = 1.0f;\n",
        "        c[i] = 0.0f;\n",
        "    }\n",
        "\n",
        "    // Copie vers le device\n",
        "    cudaMemcpy(device_a, a, size, cudaMemcpyHostToDevice);\n",
        "    cudaMemcpy(device_b, b, size, cudaMemcpyHostToDevice);\n",
        "\n",
        "    // Calcul du nombre de blocs nécessaires\n",
        "    int threadsPerBlock = 256;\n",
        "    int blocksPerGrid = (n + threadsPerBlock - 1) / threadsPerBlock;\n",
        "\n",
        "\n",
        "    addvect<<<blocksPerGrid, threadsPerBlock>>>(device_a, device_b, device_c, n);\n",
        "\n",
        "\n",
        "\n",
        "    // Copie du résultat vers l'hôte\n",
        "    cudaMemcpy(c, device_c, size, cudaMemcpyDeviceToHost);\n",
        "\n",
        "    // Libération mémoire\n",
        "    cudaFree(device_a);\n",
        "    cudaFree(device_b);\n",
        "    cudaFree(device_c);\n",
        "\n",
        "    // Affichage des résultats\n",
        "    printf(\"Premiers 10 résultats:\\n\");\n",
        "    for (int i = 0; i < 10; i++) {\n",
        "        printf(\"c[%d] = %f\\n\", i, c[i]);\n",
        "    }\n",
        "\n",
        "    return 0;\n",
        "}"
      ],
      "metadata": {
        "colab": {
          "base_uri": "https://localhost:8080/"
        },
        "id": "sbnCBdK0pP_a",
        "outputId": "178f582b-3eaa-42d2-8c6e-56eb98b1066e"
      },
      "execution_count": null,
      "outputs": [
        {
          "output_type": "stream",
          "name": "stdout",
          "text": [
            "Overwriting vector_addition.cu\n"
          ]
        }
      ]
    },
    {
      "cell_type": "markdown",
      "source": [
        "### Explanation of the main CUDA code:\n",
        "\n",
        "- `n = 512`: Size of the vectors.\n",
        "- We allocate three vectors on the host (CPU): `a`, `b`, and `c`.\n",
        "- Then we allocate corresponding memory on the device (GPU) using `cudaMalloc`.\n",
        "\n",
        "#### Memory Transfer:\n",
        "- We copy the input vectors from host to device using `cudaMemcpy` wtih the appropriate type  : cudaMemcupyDeviceToHost or cudaMemcpyHostToDevice.\n",
        "\n",
        "#### Kernel Launch:\n",
        "- The kernel `addvect` is launched with enough blocks and threads to cover all elements (`n`).\n",
        "- Each thread computes `c[i] = a[i] + b[i]`.\n",
        "\n",
        "#### Copy Back & Print:\n",
        "- After execution, the result vector `c[]` is copied back to host.\n",
        "\n",
        "\n",
        "> Ajouter une citation\n",
        "\n",
        "\n",
        "#### Cleanup:\n",
        "- All device memory is freed with `cudaFree`.\n"
      ],
      "metadata": {
        "id": "zzEahDCe5FLf"
      }
    },
    {
      "cell_type": "code",
      "source": [
        "# Compile the CUDA code using NVIDIA's compiler (nvcc)\n",
        "# This creates an executable named 'vector_addition'\n",
        "!nvcc -arch=sm_75 vector_addition.cu -o vector_addition\n"
      ],
      "metadata": {
        "id": "upOWSrQZtXFz",
        "colab": {
          "base_uri": "https://localhost:8080/"
        },
        "outputId": "d548522e-1510-4661-9166-9b6e16e228cf"
      },
      "execution_count": null,
      "outputs": [
        {
          "output_type": "stream",
          "name": "stdout",
          "text": [
            "\u001b[01m\u001b[0m\u001b[01mvector_addition.cu(39)\u001b[0m: \u001b[01;35mwarning\u001b[0m #177-D: variable \u001b[01m\"blocksPerGrid\"\u001b[0m was declared but never referenced\n",
            "      int blocksPerGrid = (n + threadsPerBlock - 1) / threadsPerBlock;\n",
            "          ^\n",
            "\n",
            "\u001b[01;36m\u001b[0m\u001b[01;36mRemark\u001b[0m: The warnings can be suppressed with \"-diag-suppress <warning-number>\"\n",
            "\n"
          ]
        }
      ]
    },
    {
      "cell_type": "code",
      "source": [
        "# Run the executable that performs vector addition on the GPU\n",
        "!./vector_addition"
      ],
      "metadata": {
        "colab": {
          "base_uri": "https://localhost:8080/"
        },
        "id": "cNNs9KBktKZ3",
        "outputId": "cc8acc36-dbb3-4ff8-bfb7-1e5513a07de7"
      },
      "execution_count": null,
      "outputs": [
        {
          "output_type": "stream",
          "name": "stdout",
          "text": [
            "Premiers 10 résultats:\n",
            "c[0] = 2.000000\n",
            "c[1] = 2.000000\n",
            "c[2] = 2.000000\n",
            "c[3] = 2.000000\n",
            "c[4] = 2.000000\n",
            "c[5] = 2.000000\n",
            "c[6] = 2.000000\n",
            "c[7] = 2.000000\n",
            "c[8] = 2.000000\n",
            "c[9] = 2.000000\n",
            "\n",
            "Quelques valeurs au milieu:\n",
            "c[250] = 2.000000\n",
            "c[251] = 2.000000\n",
            "c[252] = 2.000000\n",
            "c[253] = 2.000000\n",
            "c[254] = 2.000000\n",
            "c[255] = 2.000000\n",
            "c[256] = 2.000000\n",
            "c[257] = 2.000000\n",
            "c[258] = 2.000000\n",
            "c[259] = 2.000000\n"
          ]
        }
      ]
    }
  ]
}